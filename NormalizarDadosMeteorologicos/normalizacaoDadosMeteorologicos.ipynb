{
 "cells": [
  {
   "cell_type": "code",
   "execution_count": 1,
   "metadata": {},
   "outputs": [],
   "source": [
    "import pandas as pd"
   ]
  },
  {
   "cell_type": "code",
   "execution_count": 2,
   "metadata": {},
   "outputs": [],
   "source": [
    "# Ler arquivo de dados meteorologicos\n",
    "df = pd.read_excel('/home/franciele/Projetos/dados-dengue/Dados/dados_meteorologicos.xlsx', head=[0, 1, 2, 3, 4, 5, 6])\n",
    "\n",
    "# Alterando o nome das colunas\n",
    "df.columns = ['municipio', 'data', 'hora', 'precipitacao', 'temperatura_maxima',\n",
    "     'temperatura_minima', 'temperatura_media', 'umidade_relativa_media']"
   ]
  },
  {
   "cell_type": "code",
   "execution_count": 3,
   "metadata": {},
   "outputs": [
    {
     "name": "stdout",
     "output_type": "stream",
     "text": [
      "    municipio       data  hora  precipitacao  temperatura_maxima  \\\n",
      "0  Alagoinhas 2001-01-01     0           NaN                33.1   \n",
      "1  Alagoinhas 2001-01-01  1200           0.0                 NaN   \n",
      "2  Alagoinhas 2001-01-02     0           NaN                32.3   \n",
      "3  Alagoinhas 2001-01-02  1200           0.0                 NaN   \n",
      "4  Alagoinhas 2001-01-03     0           NaN                32.5   \n",
      "\n",
      "   temperatura_minima  temperatura_media  umidade_relativa_media  \n",
      "0                 NaN              26.20                   69.25  \n",
      "1                21.5                NaN                     NaN  \n",
      "2                 NaN              25.00                   69.25  \n",
      "3                17.5                NaN                     NaN  \n",
      "4                 NaN              25.16                   70.75  \n"
     ]
    }
   ],
   "source": [
    "# Visualizando os primeiros registros do data frame\n",
    "print(df.head())"
   ]
  },
  {
   "cell_type": "code",
   "execution_count": 4,
   "metadata": {},
   "outputs": [
    {
     "data": {
      "text/plain": [
       "municipio                         object\n",
       "data                      datetime64[ns]\n",
       "hora                               int64\n",
       "precipitacao                     float64\n",
       "temperatura_maxima               float64\n",
       "temperatura_minima               float64\n",
       "temperatura_media                float64\n",
       "umidade_relativa_media           float64\n",
       "dtype: object"
      ]
     },
     "execution_count": 4,
     "metadata": {},
     "output_type": "execute_result"
    }
   ],
   "source": [
    "# Visualizando os tipos dos dados contidos no data frame\n",
    "df.dtypes"
   ]
  },
  {
   "cell_type": "code",
   "execution_count": 5,
   "metadata": {},
   "outputs": [],
   "source": [
    "# Formatando a coluna data\n",
    "df['data'] = df.data.dt.strftime('%d/%m/%Y')"
   ]
  },
  {
   "cell_type": "code",
   "execution_count": null,
   "metadata": {},
   "outputs": [],
   "source": [
    "import sys\n",
    "sys.path.append(\"..\")\n",
    "from Utils import normalizarNome"
   ]
  },
  {
   "cell_type": "code",
   "execution_count": null,
   "metadata": {},
   "outputs": [],
   "source": [
    "# Normalizando nome do municipio\n",
    "df['municipio'] = df['municipio'].map(normalizarNome.normalizar_nome)"
   ]
  },
  {
   "cell_type": "code",
   "execution_count": null,
   "metadata": {
    "scrolled": true
   },
   "outputs": [],
   "source": [
    "# Lista única de municípios do data frame\n",
    "lista_municipios = df.municipio.unique()\n",
    "\n",
    "# Visualizando tamanho da lista\n",
    "print(lista_municipios.size)\n",
    "\n",
    "# Visualizando lista de municípios\n",
    "print(lista_municipios)"
   ]
  },
  {
   "cell_type": "code",
   "execution_count": null,
   "metadata": {},
   "outputs": [],
   "source": [
    "# Visualizando alterações\n",
    "print(df.head())"
   ]
  },
  {
   "cell_type": "code",
   "execution_count": null,
   "metadata": {},
   "outputs": [],
   "source": [
    "# Visualizando as dimensões do data frame\n",
    "print(df.shape)"
   ]
  },
  {
   "cell_type": "code",
   "execution_count": null,
   "metadata": {},
   "outputs": [],
   "source": [
    "# Salvando a quantidade de registros do data frame\n",
    "size = df.shape[0]\n",
    "\n",
    "# Visualizando valor armazenado\n",
    "print(size)"
   ]
  },
  {
   "cell_type": "code",
   "execution_count": null,
   "metadata": {},
   "outputs": [],
   "source": [
    "# Organizando os dados municipio, data e hora de forma ascendente\n",
    "df.sort_values(['municipio', 'data', 'hora'], ascending=[True, True, True])"
   ]
  },
  {
   "cell_type": "code",
   "execution_count": null,
   "metadata": {},
   "outputs": [],
   "source": [
    "# Lista única de datas do data frame\n",
    "lista_datas = df.data.unique()\n",
    "\n",
    "# Visualizando tamanho da lista\n",
    "print(lista_datas.size)\n",
    "\n",
    "# Visualizando lista de datas\n",
    "print(lista_datas)"
   ]
  },
  {
   "cell_type": "code",
   "execution_count": null,
   "metadata": {},
   "outputs": [],
   "source": [
    "colunas = ['municipio', 'data', 'precipitacao', 'temperatura_maxima',\n",
    "     'temperatura_minima', 'temperatura_media', 'umidade_relativa_media']\n",
    "    \n",
    "# Criando dataframe\n",
    "dfNormalizado = pd.DataFrame(columns=colunas)\n",
    "rows = []"
   ]
  },
  {
   "cell_type": "code",
   "execution_count": null,
   "metadata": {},
   "outputs": [],
   "source": [
    "import numpy as np"
   ]
  },
  {
   "cell_type": "code",
   "execution_count": null,
   "metadata": {},
   "outputs": [],
   "source": [
    "import getDado"
   ]
  },
  {
   "cell_type": "code",
   "execution_count": null,
   "metadata": {},
   "outputs": [],
   "source": [
    "import sys\n",
    "sys.path.append(\"..\")\n",
    "from Utils import log"
   ]
  },
  {
   "cell_type": "code",
   "execution_count": null,
   "metadata": {},
   "outputs": [],
   "source": [
    "qtdMunicipios = lista_municipios.size\n",
    "print(qtdMunicipios)"
   ]
  },
  {
   "cell_type": "code",
   "execution_count": null,
   "metadata": {},
   "outputs": [],
   "source": [
    "# Loop Municipio e data\n",
    "for i in range(0, qtdMunicipios, 1):\n",
    "    print ('[' + str(i) + '] ' + lista_municipios[i])\n",
    "    \n",
    "    # Filtrando os dados pelo municipio\n",
    "    df_filtered_municipio = df[df['municipio'] == lista_municipios[i]]\n",
    "    \n",
    "    # Verificando se há dados para o município\n",
    "    municipioExiste = (df_filtered_municipio.shape[0] != 0)\n",
    "    \n",
    "    # Controle de log\n",
    "    if (not municipioExiste):\n",
    "        arquivoCodigo = 'testeNormalizacao.ipynb'\n",
    "        arquivoDados = 'dados_meteorologicos.xlsx'\n",
    "        msgErro = 'Não há dados.'\n",
    "        municipio = lista_municipios[i]\n",
    "        data = ''\n",
    "        campo = ''\n",
    "        log.save_log(arquivoCodigo, arquivoDados, msgErro, municipio, data, campo)\n",
    "        print(msgErro)\n",
    "    \n",
    "    for j in range(0, lista_datas.size, 1):\n",
    "        # print ('---- [' + str(j) + '] ' + lista_datas[j])\n",
    "        \n",
    "        # Filtrando os dados pela data\n",
    "        df_filtered_mun_data = df_filtered_municipio[df_filtered_municipio['data'] == lista_datas[j]]\n",
    "                \n",
    "        # Verificando se há dados para a data no município em questão\n",
    "        dataExiste = (df_filtered_mun_data.shape[0] != 0)\n",
    "        \n",
    "        if(dataExiste):\n",
    "            \n",
    "            qtdRegistros = df_filtered_mun_data.shape[0]\n",
    "\n",
    "            if (qtdRegistros == 2):\n",
    "                \n",
    "                # Precipitacao\n",
    "                dadosPrecipitacao = df_filtered_mun_data['precipitacao'].values\n",
    "                resultadoPrecipitacao = getDado.getDadoNumerico(dadosPrecipitacao[0], dadosPrecipitacao[1])\n",
    "\n",
    "                if (resultadoPrecipitacao == 'Ambos os dados estão vazios.' or resultadoPrecipitacao == 'Ambos os dados não estão vazios.'):\n",
    "                    arquivoCodigo = 'testeNormalizacao.ipynb'\n",
    "                    arquivoDados = 'dados_meteorologicos.xlsx'\n",
    "                    msgErro = resultadoPrecipitacao\n",
    "                    municipio = lista_municipios[i]\n",
    "                    data = lista_datas[j]\n",
    "                    campo = 'precipitacao'\n",
    "                    log.save_log(arquivoCodigo, arquivoDados, msgErro, municipio, data, campo)\n",
    "                    print(msgErro)\n",
    "                else: \n",
    "                    precipitacao = resultadoPrecipitacao\n",
    "                    \n",
    "                # Temperatura Máxima\n",
    "                dadosTempMaxima = df_filtered_mun_data['temperatura_maxima'].values\n",
    "                resultadoTempMaxima = getDado.getDadoNumerico(dadosTempMaxima[0], dadosTempMaxima[1])\n",
    "\n",
    "                if (resultadoTempMaxima == 'Ambos os dados estão vazios.' or resultadoTempMaxima == 'Ambos os dados não estão vazios.'):\n",
    "                    arquivoCodigo = 'testeNormalizacao.ipynb'\n",
    "                    arquivoDados = 'dados_meteorologicos.xlsx'\n",
    "                    msgErro = resultadoTempMaxima\n",
    "                    municipio = lista_municipios[i]\n",
    "                    data = lista_datas[j]\n",
    "                    campo = 'temperatura_maxima'\n",
    "                    log.save_log(arquivoCodigo, arquivoDados, msgErro, municipio, data, campo)\n",
    "                    print(msgErro) \n",
    "                else: \n",
    "                    temperaturaMaxima = resultadoTempMaxima\n",
    "                \n",
    "                # Temperatura Minima\n",
    "                dadosTempMinima = df_filtered_mun_data['temperatura_minima'].values\n",
    "                resultadoTempMinima = getDado.getDadoNumerico(dadosTempMinima[0], dadosTempMinima[1])\n",
    "\n",
    "                if (resultadoTempMinima == 'Ambos os dados estão vazios.' or resultadoTempMaxima == 'Ambos os dados não estão vazios.'):\n",
    "                    arquivoCodigo = 'testeNormalizacao.ipynb'\n",
    "                    arquivoDados = 'dados_meteorologicos.xlsx'\n",
    "                    msgErro = resultadoTempMinima\n",
    "                    municipio = lista_municipios[i]\n",
    "                    data = lista_datas[j]\n",
    "                    campo = 'temperatura_minima'\n",
    "                    log.save_log(arquivoCodigo, arquivoDados, msgErro, municipio, data, campo)\n",
    "                    print(msgErro) \n",
    "                else: \n",
    "                    temperaturaMinima = resultadoTempMinima\n",
    "                \n",
    "                # Temperatura Média\n",
    "                dadosTempMedia = df_filtered_mun_data['temperatura_media'].values\n",
    "                resultadoTempMedia = getDado.getDadoNumerico(dadosTempMedia[0], dadosTempMedia[1])\n",
    "\n",
    "                if (resultadoTempMedia == 'Ambos os dados estão vazios.' or resultadoTempMedia == 'Ambos os dados não estão vazios.'):\n",
    "                    arquivoCodigo = 'testeNormalizacao.ipynb'\n",
    "                    arquivoDados = 'dados_meteorologicos.xlsx'\n",
    "                    msgErro = resultadoTempMedia\n",
    "                    municipio = lista_municipios[i]\n",
    "                    data = lista_datas[j]\n",
    "                    campo = 'temperatura_media'\n",
    "                    log.save_log(arquivoCodigo, arquivoDados, msgErro, municipio, data, campo)\n",
    "                    print(msgErro) \n",
    "                else: \n",
    "                    temperaturaMedia = resultadoTempMedia\n",
    "                \n",
    "                # Umidade relativa média\n",
    "                dadosUmidRelMedia = df_filtered_mun_data['umidade_relativa_media'].values\n",
    "                resultadoUmidRelMedia = getDado.getDadoNumerico(dadosUmidRelMedia[0], dadosUmidRelMedia[1])\n",
    "\n",
    "                if (resultadoUmidRelMedia == 'Ambos os dados estão vazios.' or resultadoUmidRelMedia == 'Ambos os dados não estão vazios.'):\n",
    "                    arquivoCodigo = 'testeNormalizacao.ipynb'\n",
    "                    arquivoDados = 'dados_meteorologicos.xlsx'\n",
    "                    msgErro = resultadoUmidRelMedia\n",
    "                    municipio = lista_municipios[i]\n",
    "                    data = lista_datas[j]\n",
    "                    campo = 'umidade_relativa_media'\n",
    "                    log.save_log(arquivoCodigo, arquivoDados, msgErro, municipio, data, campo)\n",
    "                    print(msgErro) \n",
    "                else: \n",
    "                    umidadeRelativaMedia = resultadoUmidRelMedia\n",
    "                    \n",
    "                                   \n",
    "                # Salvar dados num data frame\n",
    "                registro = [lista_municipios[i], lista_datas[j], precipitacao,\n",
    "                            temperaturaMaxima, temperaturaMinima, temperaturaMedia, umidadeRelativaMedia]\n",
    "                rows.append(registro)\n",
    "\n",
    "            else:\n",
    "                \n",
    "                if (qtdRegistros == 1):\n",
    "                    \n",
    "                    dadosPrecipitacao = df_filtered_mun_data['precipitacao'].values\n",
    "                    dadosTempMaxima = df_filtered_mun_data['temperatura_maxima'].values\n",
    "                    dadosTempMinima = df_filtered_mun_data['temperatura_minima'].values\n",
    "                    dadosTempMedia = df_filtered_mun_data['temperatura_media'].values\n",
    "                    dadosUmidRelMedia = df_filtered_mun_data['umidade_relativa_media'].values\n",
    "                    \n",
    "                    if ((not np.isnan(dadosPrecipitacao)) and (not np.isnan(dadosTempMaxima)) and (not np.isnan(dadosTempMinima)) and (not np.isnan(dadosTempMedia)) and (not np.isnan(dadosUmidRelMedia))) :\n",
    "                        arquivoCodigo = 'testeNormalizacao.ipynb'\n",
    "                        arquivoDados = 'dados_meteorologicos.xlsx'\n",
    "                        msgErro = 'TEM APENAS UM REGISTRO COMPLETO.'\n",
    "                        municipio = lista_municipios[i]\n",
    "                        data = lista_datas[j]\n",
    "                        campo = 'Todos'\n",
    "                        log.save_log(arquivoCodigo, arquivoDados, msgErro, municipio, data, campo)\n",
    "                        print(msgErro)\n",
    "                                                                \n",
    "                arquivoCodigo = 'testeNormalizacao.ipynb'\n",
    "                arquivoDados = 'dados_meteorologicos.xlsx'\n",
    "                msgErro = 'Há ' + str(qtdRegistros) + ' registros.'\n",
    "                municipio = lista_municipios[i]\n",
    "                data = lista_datas[j]\n",
    "                campo = ''\n",
    "                log.save_log(arquivoCodigo, arquivoDados, msgErro, municipio, data, campo)\n",
    "                print(msgErro)\n",
    "        \n",
    "        # Controle de log\n",
    "        if (not dataExiste):\n",
    "            arquivoCodigo = 'testeNormalizacao.ipynb'\n",
    "            arquivoDados = 'dados_meteorologicos.xlsx'\n",
    "            msgErro = 'Não há dados.'\n",
    "            municipio = lista_municipios[i]\n",
    "            data = lista_datas[j]\n",
    "            campo = ''\n",
    "            log.save_log(arquivoCodigo, arquivoDados, msgErro, municipio, data, campo)\n",
    "            print(msgErro)\n",
    "        \n",
    "        # Salvando dados filtrados pelo municipio e data num arquivo .csv\n",
    "        '''\n",
    "        dia, mes, ano = getDateSplit(lista_datas[j])\n",
    "        arquivo = lista_municipios[i] + '_' + dia + '-' + mes +'-' + ano +'.csv'\n",
    "        df_filtered_mun_data.to_csv(arquivo)\n",
    "        '''"
   ]
  },
  {
   "cell_type": "code",
   "execution_count": null,
   "metadata": {},
   "outputs": [],
   "source": [
    "# Salvando linhas no dataframe\n",
    "for row in rows:\n",
    "    dfNormalizado.loc[len(dfNormalizado)] = row"
   ]
  },
  {
   "cell_type": "code",
   "execution_count": null,
   "metadata": {},
   "outputs": [],
   "source": [
    "# Salvando dados do dataframe em um arquivo .csv\n",
    "dfNormalizado.to_csv('saidaDadosMeteorologicos.csv')"
   ]
  },
  {
   "cell_type": "code",
   "execution_count": null,
   "metadata": {},
   "outputs": [],
   "source": []
  }
 ],
 "metadata": {
  "kernelspec": {
   "display_name": "Python 3",
   "language": "python",
   "name": "python3"
  },
  "language_info": {
   "codemirror_mode": {
    "name": "ipython",
    "version": 3
   },
   "file_extension": ".py",
   "mimetype": "text/x-python",
   "name": "python",
   "nbconvert_exporter": "python",
   "pygments_lexer": "ipython3",
   "version": "3.6.5"
  }
 },
 "nbformat": 4,
 "nbformat_minor": 2
}
