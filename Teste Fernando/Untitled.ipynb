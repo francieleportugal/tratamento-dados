{
 "cells": [
  {
   "cell_type": "code",
   "execution_count": 261,
   "metadata": {},
   "outputs": [
    {
     "name": "stdout",
     "output_type": "stream",
     "text": [
      "     Estacao      Data  Hora  Precipitacao  TempMaxima  TempMinima  \\\n",
      "0      Araci  20010102     0           NaN        33.1         NaN   \n",
      "1    Boquira  20010103  1200           0.0         0.0        21.5   \n",
      "2  Caravelas  20010101     0           NaN        32.3         0.0   \n",
      "\n",
      "   Temp Comp Media  Umidade Relativa Media  Ocorrencia  \n",
      "0             26.2                   69.25           2  \n",
      "1              0.0                    0.00           0  \n",
      "2             25.0                   69.25           0  \n",
      "     Estacao      Data  Hora  Precipitacao  TempMaxima  TempMinima  \\\n",
      "0      Araci  20010102     0           NaN        33.1         NaN   \n",
      "1    Boquira  20010103  1200           0.0         0.0        21.5   \n",
      "2  Caravelas  20010101     0           NaN        32.3         0.0   \n",
      "\n",
      "   Temp Comp Media  Umidade Relativa Media  Ocorrencia  \n",
      "0             26.2                   69.25           2  \n",
      "1              0.0                    0.00           1  \n",
      "2             25.0                   69.25           0  \n",
      "     Estacao      Data  Hora  Precipitacao  TempMaxima  TempMinima  \\\n",
      "0      Araci  20010102     0           NaN        33.1         NaN   \n",
      "1    Boquira  20010103  1200           0.0         0.0        21.5   \n",
      "2  Caravelas  20010101     0           NaN        32.3         0.0   \n",
      "\n",
      "   Temp Comp Media  Umidade Relativa Media  Ocorrencia  \n",
      "0             26.2                   69.25           2  \n",
      "1              0.0                    0.00           1  \n",
      "2             25.0                   69.25           3  \n"
     ]
    }
   ],
   "source": [
    "import pandas as pd\n",
    "\n",
    "def fixDate():\n",
    "    dt_meteorologico = pd.read_excel('meteorologico.xlsx')\n",
    "    \n",
    "    auxDataframe = [(dt_meteorologico.loc[:,'Data'].size)]\n",
    "    \n",
    "    for cont in range(0,len(auxDataframe)+2):\n",
    "        auxDataframe.insert(cont,str(dt_meteorologico.iloc[cont,1]).replace('/','')[0:10].replace('-',''))\n",
    "    \n",
    "    dt_meteorologico['Data'] = pd.DataFrame(auxDataframe)\n",
    "    return dt_meteorologico\n",
    "\n",
    "def crossingData():\n",
    "    dt_meteorologico = fixDate()\n",
    "    dt_dengue = pd.read_excel('dengue.xlsx')\n",
    "    aux = pd.DataFrame()\n",
    "    result = dt_meteorologico\n",
    "    result['Ocorrencia'] = pd.Series(0, index=result.index)\n",
    "  #  print(result)\n",
    "   # print(dt_dengue)\n",
    "    for cont in range(0,dt_meteorologico['Data'].count()):\n",
    "\n",
    "        var1 = dt_meteorologico.loc[cont,'Estacao']\n",
    "        var2 = dt_meteorologico.loc[cont,'Data']\n",
    "        \n",
    "        aux =  dt_dengue.loc[(dt_dengue.MUNNOME  == var1) & (dt_dengue.DT_NOTIF == int(var2))]\n",
    "        \n",
    "        result.at[cont,'Ocorrencia'] = aux.iloc[0][3].astype(int)\n",
    "        print(result)\n",
    "       \n",
    "\n",
    "crossingData()"
   ]
  },
  {
   "cell_type": "markdown",
   "metadata": {},
   "source": [
    "#### "
   ]
  },
  {
   "cell_type": "code",
   "execution_count": null,
   "metadata": {},
   "outputs": [],
   "source": []
  }
 ],
 "metadata": {
  "kernelspec": {
   "display_name": "Python 3",
   "language": "python",
   "name": "python3"
  },
  "language_info": {
   "codemirror_mode": {
    "name": "ipython",
    "version": 3
   },
   "file_extension": ".py",
   "mimetype": "text/x-python",
   "name": "python",
   "nbconvert_exporter": "python",
   "pygments_lexer": "ipython3",
   "version": "3.7.1"
  }
 },
 "nbformat": 4,
 "nbformat_minor": 2
}
