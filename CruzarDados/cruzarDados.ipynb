{
 "cells": [
  {
   "cell_type": "code",
   "execution_count": 1,
   "metadata": {},
   "outputs": [],
   "source": [
    "import pandas as pd"
   ]
  },
  {
   "cell_type": "code",
   "execution_count": 2,
   "metadata": {},
   "outputs": [
    {
     "name": "stdout",
     "output_type": "stream",
     "text": [
      "    municipio        data  precipitacao  temperatura_maxima  \\\n",
      "0  ALAGOINHAS  01/01/2001           0.0                33.1   \n",
      "1  ALAGOINHAS  02/01/2001           0.0                32.3   \n",
      "2  ALAGOINHAS  03/01/2001           0.0                32.5   \n",
      "3  ALAGOINHAS  04/01/2001           5.2                28.1   \n",
      "4  ALAGOINHAS  05/01/2001          10.8                28.9   \n",
      "\n",
      "   temperatura_minima  temperatura_media  umidade_relativa_media  \n",
      "0                21.5              26.20                   69.25  \n",
      "1                17.5              25.00                   69.25  \n",
      "2                18.7              25.16                   70.75  \n",
      "3                21.5              24.16                   86.75  \n",
      "4                20.3              24.04                   81.75  \n"
     ]
    }
   ],
   "source": [
    "# Lendo dados meteorologicos\n",
    "dfDadosMeteorologicos = pd.read_csv('/home/franciele/Projetos/dados-dengue/NormalizarDadosMeteorologicos/saidaDadosMeteorologicos.csv', index_col=0)\n",
    "\n",
    "# Visualizando dados meteorologicos\n",
    "print(dfDadosMeteorologicos.head())"
   ]
  },
  {
   "cell_type": "code",
   "execution_count": 3,
   "metadata": {},
   "outputs": [
    {
     "name": "stdout",
     "output_type": "stream",
     "text": [
      "       municipio        data  quantidade_notificacao\n",
      "0          ARACI  01/01/2001                       3\n",
      "1        BOQUIRA  01/01/2001                       2\n",
      "2      CARAVELAS  01/01/2001                       1\n",
      "3        ITIRUCU  01/01/2001                       7\n",
      "4  MEDEIROS NETO  01/01/2001                       6\n"
     ]
    }
   ],
   "source": [
    "# Lendo dados meteorologicos\n",
    "dfDadosNotificacoesDengue = pd.read_csv('/home/franciele/Projetos/dados-dengue/NormalizarDadosNotificacoesDengue/saidaNotificacoesDengue.csv', index_col=0)\n",
    "\n",
    "# Visualizando dados meteorologicos\n",
    "print(dfDadosNotificacoesDengue.head())"
   ]
  },
  {
   "cell_type": "code",
   "execution_count": 8,
   "metadata": {},
   "outputs": [
    {
     "name": "stdout",
     "output_type": "stream",
     "text": [
      "Quantidade:  28\n",
      "Lista:  ['ALAGOINHAS' 'BARRA' 'BARREIRAS' 'BOM  JESUS DA LAPA' 'CAETITE'\n",
      " 'CANAVIEIRAS' 'CARAVELAS' 'CARINHANHA' 'CIPO' 'CORRENTINA'\n",
      " 'CRUZ DAS ALMAS' 'FEIRA DE SANTANA' 'GUARATINGA' 'IRECE' 'ITABERABA'\n",
      " 'ITIRUCU' 'ITUACU' 'JACOBINA' 'LENCOIS' 'MONTE SANTO' 'MORRO DO CHAPEU'\n",
      " 'PAULO AFONSO' 'REMANSO' 'SALVADOR' 'SANTA RITA DE CASSIA'\n",
      " 'SENHOR DO BONFIM' 'SERRINHA' 'VITORIA DA CONQUISTA']\n"
     ]
    }
   ],
   "source": [
    "# Lista única de municípios do data frame de dados meteorologicos\n",
    "listaMunicipiosDadosMeteorologicos = dfDadosMeteorologicos.municipio.unique()\n",
    "\n",
    "# Visualizando lista de municípios do data frame de dados meteorologicos\n",
    "print('Quantidade: ', listaMunicipiosDadosMeteorologicos.size)\n",
    "print('Lista: ', listaMunicipiosDadosMeteorologicos)"
   ]
  },
  {
   "cell_type": "code",
   "execution_count": 9,
   "metadata": {},
   "outputs": [
    {
     "name": "stdout",
     "output_type": "stream",
     "text": [
      "Quantidade:  417\n",
      "Lista:  ['ARACI' 'BOQUIRA' 'CARAVELAS' 'ITIRUCU' 'MEDEIROS NETO' 'SALVADOR'\n",
      " 'BRUMADO' 'CAMPO ALEGRE DE LOURDES' 'FEIRA DE SANTANA' 'IBITIARA' 'LAJE'\n",
      " 'MUCURI' 'PORTO SEGURO' 'PRADO' 'RAFAEL JAMBEIRO' 'CANAVIEIRAS'\n",
      " 'EUCLIDES DA CUNHA' 'ITABUNA' 'MUTUIPE' 'RIBEIRA DO POMBAL' 'SERRINHA'\n",
      " 'SITIO DO QUINTO' 'ANTAS' 'IBICARAI' 'ITABERABA'\n",
      " 'LIVRAMENTO DE NOSSA SENHORA' 'RIO DO ANTONIO' 'UBAIRA' 'UNA'\n",
      " 'NOVA VICOSA' 'TAPEROA' 'VITORIA DA CONQUISTA' 'LAURO DE FREITAS'\n",
      " 'PLANALTINO' 'SIMOES FILHO' 'CAEM' 'COARACI' 'CONCEICAO DA FEIRA'\n",
      " 'IBOTIRAMA' 'IPIAU' 'JACOBINA' 'CICERO DANTAS' 'IPUPIARA' 'ITAJUIPE'\n",
      " 'MUNDO NOVO' 'PEDRO ALEXANDRE' 'URUCUCA' 'BAIXA GRANDE' 'FATIMA'\n",
      " 'GUARATINGA' 'WAGNER' 'BARREIRAS' 'CONTENDAS DO SINCORA'\n",
      " 'LAFAIETE COUTINHO' 'SANTA LUZIA' 'RIACHAO DAS NEVES' 'AURELINO LEAL'\n",
      " 'GUANAMBI' 'LICINIO DE ALMEIDA' 'PALMAS DE MONTE ALTO' 'TANHACU'\n",
      " 'PINDOBACU' 'VALENTE' 'HELIOPOLIS' 'MADRE DE DEUS' 'OLINDINA' 'GANDU'\n",
      " 'MARCIONILIO SOUZA' 'MURITIBA' 'NOVA FATIMA' 'RIACHAO DO JACUIPE'\n",
      " 'RUY BARBOSA' 'SANTA MARIA DA VITORIA' 'VERA CRUZ' 'CAMACARI' 'GLORIA'\n",
      " 'ILHEUS' 'MASCOTE' 'NOVA SOURE' 'CIPO' 'ALCOBACA' 'BOM JESUS DA LAPA'\n",
      " 'IBIRAPITANGA' 'NOVO TRIUNFO' 'PARATINGA' 'SANTA CRUZ CABRALIA'\n",
      " 'SANTALUZ' 'SAO FELIX DO CORIBE' 'BARRA DO ROCHA' 'CACULE' 'ITIUBA'\n",
      " 'CAPIM GROSSO' 'ITORORO' 'MANOEL VITORINO' 'TEIXEIRA DE FREITAS'\n",
      " 'JACARACI' 'NOVA CANAA' 'UBATA' 'CORONEL JOAO SA' 'EUNAPOLIS' 'ITABELA'\n",
      " 'BARRO PRETO' 'MIGUEL CALMON' 'OLIVEIRA DOS BREJINHOS' 'PARIPIRANGA'\n",
      " 'ARACATU' 'CACHOEIRA' 'DOM BASILIO' 'JEQUIE' 'SANTO AMARO' 'WANDERLEY'\n",
      " 'MONTE SANTO' 'POJUCA' 'CONCEICAO DO COITE' 'SAO DESIDERIO' 'SERROLANDIA'\n",
      " 'ABAIRA' 'BUERAREMA' 'JUAZEIRO' 'RIO REAL' 'CONDE' 'IGRAPIUNA' 'ITAETE'\n",
      " 'MACURURE' 'POTIRAGUA' 'QUIJINGUE' 'ADUSTINA' 'CONCEICAO DO ALMEIDA'\n",
      " 'IUIU' 'PAU BRASIL' 'TEOLANDIA' 'AMELIA RODRIGUES' 'ANTONIO GONCALVES'\n",
      " 'DARIO MEIRA' 'IBIASSUCE' 'SANTO ANTONIO DE JESUS' 'IRAJUBA' 'MARAU'\n",
      " 'SANTA BRIGIDA' 'JUSSARI' 'LUIS EDUARDO MAGALHAES' 'ANGICAL' 'CAIRU'\n",
      " 'SENHOR DO BONFIM' 'PIRITIBA' 'REMANSO' 'TUCANO' 'CANDEIAS' 'CHORROCHO'\n",
      " 'CRUZ DAS ALMAS' 'OUROLANDIA' 'JAGUARARI' 'MARACAS' 'QUIXABEIRA'\n",
      " 'TEOFILANDIA' 'CAMACAN' 'MAIRI' 'MORRO DO CHAPEU' 'PARAMIRIM'\n",
      " 'TAPIRAMUTA' 'RIACHO DE SANTANA' 'BARRA DO CHOCA' 'CAMAMU' 'IBICUI'\n",
      " 'IGAPORA' 'RETIROLANDIA' 'SAPEACU' 'BREJOLANDIA' 'ITAQUARA' 'JAGUAQUARA'\n",
      " 'MACAJUBA' 'FIRMINO ALVES' 'LENCOIS' 'IGUAI' 'SANTANA' 'COCOS'\n",
      " 'ITARANTIM' 'VARZEA DO POCO' 'JITAUNA' 'MALHADA' 'SANTA BARBARA'\n",
      " 'SERRA DO RAMALHO' 'UBAITABA' 'NOVA IBIA' 'SAO SEBASTIAO DO PASSE'\n",
      " 'AIQUARA' 'ALAGOINHAS' 'COTEGIPE' 'CANAPOLIS' 'ITAPETINGA' 'MAIQUINIQUE'\n",
      " 'SOBRADINHO' 'ELISIO MEDRADO' 'ITAPITANGA' 'SAO MIGUEL DAS MATAS'\n",
      " 'SEABRA' 'CASTRO ALVES' 'MACARANI' 'PE DE SERRA' 'VARZEA NOVA' 'ANDARAI'\n",
      " 'CRISTOPOLIS' 'PINDAI' 'CASA NOVA' 'SENTO SE' 'AMARGOSA'\n",
      " 'TABOCAS DO BREJO VELHO' 'CORIBE' 'ESPLANADA' 'SALINAS DA MARGARIDA'\n",
      " 'CAFARNAUM' 'ITANHEM' 'JABORANDI' 'SATIRO DIAS' 'CARDEAL DA SILVA'\n",
      " 'CORRENTINA' 'MIRANGABA' 'SAUBARA' 'CONCEICAO DO JACUIPE' 'ENTRE RIOS'\n",
      " 'ITAJU DO COLONIA' 'ITATIM' 'MATA DE SAO JOAO' 'IRAMAIA' 'SAO DOMINGOS'\n",
      " 'IBIQUERA' 'IBIRATAIA' 'MATINA' 'NILO PECANHA' 'SAO GONCALO DOS CAMPOS'\n",
      " 'VARZEA DA ROCA' 'CALDEIRAO GRANDE' 'DIAS DAVILA' 'XIQUE-XIQUE'\n",
      " 'IRAQUARA' 'ANAGE' 'BROTAS DE MACAUBAS' 'MARAGOGIPE' 'UMBURANAS' 'PEDRAO'\n",
      " 'APUAREMA' 'ARATACA' 'PIRIPA' 'ITAMARAJU' 'JUSSIAPE' 'PIRAI DO NORTE'\n",
      " 'CURACA' 'BANZAE' 'SERRA DOURADA' 'IRECE' 'SOUTO SOARES' 'TANQUINHO'\n",
      " 'CARINHANHA' 'ICHU' 'IRARA' 'NOVO HORIZONTE' 'BAIANOPOLIS' 'INHAMBUPE'\n",
      " 'ITUACU' 'FEIRA DA MATA' 'ITUBERA' 'RIBEIRA DO AMPARO' 'TEODORO SAMPAIO'\n",
      " 'SANTANOPOLIS' 'APORA' 'URANDI' 'BIRITINGA' 'ITAPEBI'\n",
      " 'SAO JOSE DO JACUIPE' 'SERRA PRETA' 'MACAUBAS' 'ANGUERA' 'ITAPE'\n",
      " 'SAO FRANCISCO DO CONDE' 'WENCESLAU GUIMARAES' 'FILADELFIA'\n",
      " 'FORMOSA DO RIO PRETO' 'ITAPICURU' 'POCOES' 'PAULO AFONSO'\n",
      " 'PRESIDENTE DUTRA' 'UAUA' 'CANDIBA' 'PRESIDENTE TANCREDO NEVES'\n",
      " 'SANTA CRUZ DA VITORIA' 'PINTADAS' 'SANTA INES' 'CAATIBA' 'ITANAGRA'\n",
      " 'LAJEDO DO TABOCAL' 'SANTO ESTEVAO' 'MUNIZ FERREIRA' 'VALENCA' 'BREJOES'\n",
      " 'CORACAO DE MARIA' 'UIBAI' 'ARACAS' 'TERRA NOVA' 'CANDIDO SALES' 'CATU'\n",
      " 'ANTONIO CARDOSO' 'ENCRUZILHADA' 'GONGOGI' 'NOVA ITARANA'\n",
      " 'AMERICA DOURADA' 'MUCUGE' 'ITAPARICA' 'NOVA REDENCAO' 'AGUA FRIA'\n",
      " 'IPIRA' 'FLORESTA AZUL' 'CENTRAL' 'MILAGRES' 'CANSANCAO' 'CAMPO FORMOSO'\n",
      " 'ANDORINHA' 'BOA NOVA' 'BOTUPORA' 'CATOLANDIA' 'CONDEUBA' 'PLANALTO'\n",
      " 'IPECAETA' 'PONTO NOVO' 'QUEIMADAS' 'RIO DE CONTAS' 'LAGOA REAL'\n",
      " 'ITAMARI' 'ITAGIBA' 'IACU' 'SANTA RITA DE CASSIA' 'TANQUE NOVO'\n",
      " 'LAJEDINHO' 'PALMEIRAS' 'CATURAMA' 'JUCURUCU' 'MAETINGA' 'ITAMBE'\n",
      " 'RIBEIRAO DO LARGO' 'CABACEIRAS DO PARAGUACU' 'CRAVOLANDIA'\n",
      " 'BOA VISTA DO TUPIM' 'JEREMOABO' 'CAPELA DO ALTO ALEGRE' 'BARROCAS'\n",
      " 'CANUDOS' 'ABARE' 'SAUDE' 'CAETANOS' 'BELO CAMPO' 'CANARANA' 'OURICANGAS'\n",
      " 'JOAO DOURADO' 'BARRA DO MENDES' 'CRISOPOLIS' 'CARAIBAS'\n",
      " 'ITAGUACU DA BAHIA' 'UTINGA' 'SAO FELIX' 'ARAMARI' 'CAETITE' 'CORDEIROS'\n",
      " 'SEBASTIAO LARANJEIRAS' 'VEREDA' 'IBIPEBA' 'ACAJUTIBA' 'BARRA DA ESTIVA'\n",
      " 'BELMONTE' 'MALHADA DE PEDRAS' 'IBICOARA' 'SAO GABRIEL' 'ITAGIMIRIM'\n",
      " 'PIATA' 'CANDEAL' 'SAO JOSE DA VITORIA' 'LAMARAO' 'ERICO CARDOSO'\n",
      " 'MIRANTE' 'NORDESTINA' 'RODELAS' 'ITACARE' 'DOM MACEDO COSTA' 'JIQUIRICA'\n",
      " 'PILAO ARCADO' 'ITAGI' 'IBITITA' 'JUSSARA' 'GUAJERU' 'IBIRAPUA'\n",
      " 'ALMADINA' 'TREMEDAL' 'RIO DO PIRES' 'PRESIDENTE JANIO QUADROS'\n",
      " 'ARATUIPE' 'LAJEDAO' 'VARZEDO' 'JAGUARIPE' 'BURITIRAMA' 'NAZARE'\n",
      " 'BOM JESUS DA SERRA' 'BONINAL' 'BARRO ALTO' 'LAPAO' 'GAVIAO' 'MANSIDAO'\n",
      " 'GOVERNADOR MANGABEIRA' 'MULUNGU DO MORRO' 'SANTA TERESINHA'\n",
      " 'SITIO DO MATO' 'BARRA' 'JANDAIRA' 'MUQUEM DE SAO FRANCISCO' 'SAO FELIPE'\n",
      " 'BONITO' 'GENTIO DO OURO' 'MORPARA' 'IBIPITANGA' 'MORTUGABA']\n"
     ]
    }
   ],
   "source": [
    "# Lista única de municípios do data frame de dados de notificacoes de dengue\n",
    "listaMunicipiosDadosNotificacoesDengue = dfDadosNotificacoesDengue.municipio.unique()\n",
    "\n",
    "# Visualizando lista de municípios do data frame de dados de notificacoes de \n",
    "print('Quantidade: ', listaMunicipiosDadosNotificacoesDengue.size)\n",
    "print('Lista: ', listaMunicipiosDadosNotificacoesDengue)"
   ]
  },
  {
   "cell_type": "code",
   "execution_count": 27,
   "metadata": {},
   "outputs": [
    {
     "name": "stdout",
     "output_type": "stream",
     "text": [
      "Quantidade:  27\n",
      "Lista:  ['ALAGOINHAS', 'BARRA', 'BARREIRAS', 'CAETITE', 'CANAVIEIRAS', 'CARAVELAS', 'CARINHANHA', 'CIPO', 'CORRENTINA', 'CRUZ DAS ALMAS', 'FEIRA DE SANTANA', 'GUARATINGA', 'IRECE', 'ITABERABA', 'ITIRUCU', 'ITUACU', 'JACOBINA', 'LENCOIS', 'MONTE SANTO', 'MORRO DO CHAPEU', 'PAULO AFONSO', 'REMANSO', 'SALVADOR', 'SANTA RITA DE CASSIA', 'SENHOR DO BONFIM', 'SERRINHA', 'VITORIA DA CONQUISTA']\n"
     ]
    }
   ],
   "source": [
    "# Selecionando municipios em comum entre as bases de dados\n",
    "listaMatchMunicipios = set(listaMunicipiosDadosMeteorologicos).intersection(listaMunicipiosDadosNotificacoesDengue)\n",
    "listaMatchMunicipios = list(listaMatchMunicipios)\n",
    "listaMatchMunicipios.sort()\n",
    "\n",
    "# Visualizando dados\n",
    "print ('Quantidade: ', len(listaMatchMunicipios))\n",
    "print ('Lista: ', listaMatchMunicipios)"
   ]
  },
  {
   "cell_type": "code",
   "execution_count": 26,
   "metadata": {},
   "outputs": [
    {
     "name": "stdout",
     "output_type": "stream",
     "text": [
      "Quantidade:  391\n",
      "Lista:  ['ABAIRA', 'ABARE', 'ACAJUTIBA', 'ADUSTINA', 'AGUA FRIA', 'AIQUARA', 'ALCOBACA', 'ALMADINA', 'AMARGOSA', 'AMELIA RODRIGUES', 'AMERICA DOURADA', 'ANAGE', 'ANDARAI', 'ANDORINHA', 'ANGICAL', 'ANGUERA', 'ANTAS', 'ANTONIO CARDOSO', 'ANTONIO GONCALVES', 'APORA', 'APUAREMA', 'ARACAS', 'ARACATU', 'ARACI', 'ARAMARI', 'ARATACA', 'ARATUIPE', 'AURELINO LEAL', 'BAIANOPOLIS', 'BAIXA GRANDE', 'BANZAE', 'BARRA DA ESTIVA', 'BARRA DO CHOCA', 'BARRA DO MENDES', 'BARRA DO ROCHA', 'BARRO ALTO', 'BARRO PRETO', 'BARROCAS', 'BELMONTE', 'BELO CAMPO', 'BIRITINGA', 'BOA NOVA', 'BOA VISTA DO TUPIM', 'BOM  JESUS DA LAPA', 'BOM JESUS DA LAPA', 'BOM JESUS DA SERRA', 'BONINAL', 'BONITO', 'BOQUIRA', 'BOTUPORA', 'BREJOES', 'BREJOLANDIA', 'BROTAS DE MACAUBAS', 'BRUMADO', 'BUERAREMA', 'BURITIRAMA', 'CAATIBA', 'CABACEIRAS DO PARAGUACU', 'CACHOEIRA', 'CACULE', 'CAEM', 'CAETANOS', 'CAFARNAUM', 'CAIRU', 'CALDEIRAO GRANDE', 'CAMACAN', 'CAMACARI', 'CAMAMU', 'CAMPO ALEGRE DE LOURDES', 'CAMPO FORMOSO', 'CANAPOLIS', 'CANARANA', 'CANDEAL', 'CANDEIAS', 'CANDIBA', 'CANDIDO SALES', 'CANSANCAO', 'CANUDOS', 'CAPELA DO ALTO ALEGRE', 'CAPIM GROSSO', 'CARAIBAS', 'CARDEAL DA SILVA', 'CASA NOVA', 'CASTRO ALVES', 'CATOLANDIA', 'CATU', 'CATURAMA', 'CENTRAL', 'CHORROCHO', 'CICERO DANTAS', 'COARACI', 'COCOS', 'CONCEICAO DA FEIRA', 'CONCEICAO DO ALMEIDA', 'CONCEICAO DO COITE', 'CONCEICAO DO JACUIPE', 'CONDE', 'CONDEUBA', 'CONTENDAS DO SINCORA', 'CORACAO DE MARIA', 'CORDEIROS', 'CORIBE', 'CORONEL JOAO SA', 'COTEGIPE', 'CRAVOLANDIA', 'CRISOPOLIS', 'CRISTOPOLIS', 'CURACA', 'DARIO MEIRA', 'DIAS DAVILA', 'DOM BASILIO', 'DOM MACEDO COSTA', 'ELISIO MEDRADO', 'ENCRUZILHADA', 'ENTRE RIOS', 'ERICO CARDOSO', 'ESPLANADA', 'EUCLIDES DA CUNHA', 'EUNAPOLIS', 'FATIMA', 'FEIRA DA MATA', 'FILADELFIA', 'FIRMINO ALVES', 'FLORESTA AZUL', 'FORMOSA DO RIO PRETO', 'GANDU', 'GAVIAO', 'GENTIO DO OURO', 'GLORIA', 'GONGOGI', 'GOVERNADOR MANGABEIRA', 'GUAJERU', 'GUANAMBI', 'HELIOPOLIS', 'IACU', 'IBIASSUCE', 'IBICARAI', 'IBICOARA', 'IBICUI', 'IBIPEBA', 'IBIPITANGA', 'IBIQUERA', 'IBIRAPITANGA', 'IBIRAPUA', 'IBIRATAIA', 'IBITIARA', 'IBITITA', 'IBOTIRAMA', 'ICHU', 'IGAPORA', 'IGRAPIUNA', 'IGUAI', 'ILHEUS', 'INHAMBUPE', 'IPECAETA', 'IPIAU', 'IPIRA', 'IPUPIARA', 'IRAJUBA', 'IRAMAIA', 'IRAQUARA', 'IRARA', 'ITABELA', 'ITABUNA', 'ITACARE', 'ITAETE', 'ITAGI', 'ITAGIBA', 'ITAGIMIRIM', 'ITAGUACU DA BAHIA', 'ITAJU DO COLONIA', 'ITAJUIPE', 'ITAMARAJU', 'ITAMARI', 'ITAMBE', 'ITANAGRA', 'ITANHEM', 'ITAPARICA', 'ITAPE', 'ITAPEBI', 'ITAPETINGA', 'ITAPICURU', 'ITAPITANGA', 'ITAQUARA', 'ITARANTIM', 'ITATIM', 'ITIUBA', 'ITORORO', 'ITUBERA', 'IUIU', 'JABORANDI', 'JACARACI', 'JAGUAQUARA', 'JAGUARARI', 'JAGUARIPE', 'JANDAIRA', 'JEQUIE', 'JEREMOABO', 'JIQUIRICA', 'JITAUNA', 'JOAO DOURADO', 'JUAZEIRO', 'JUCURUCU', 'JUSSARA', 'JUSSARI', 'JUSSIAPE', 'LAFAIETE COUTINHO', 'LAGOA REAL', 'LAJE', 'LAJEDAO', 'LAJEDINHO', 'LAJEDO DO TABOCAL', 'LAMARAO', 'LAPAO', 'LAURO DE FREITAS', 'LICINIO DE ALMEIDA', 'LIVRAMENTO DE NOSSA SENHORA', 'LUIS EDUARDO MAGALHAES', 'MACAJUBA', 'MACARANI', 'MACAUBAS', 'MACURURE', 'MADRE DE DEUS', 'MAETINGA', 'MAIQUINIQUE', 'MAIRI', 'MALHADA', 'MALHADA DE PEDRAS', 'MANOEL VITORINO', 'MANSIDAO', 'MARACAS', 'MARAGOGIPE', 'MARAU', 'MARCIONILIO SOUZA', 'MASCOTE', 'MATA DE SAO JOAO', 'MATINA', 'MEDEIROS NETO', 'MIGUEL CALMON', 'MILAGRES', 'MIRANGABA', 'MIRANTE', 'MORPARA', 'MORTUGABA', 'MUCUGE', 'MUCURI', 'MULUNGU DO MORRO', 'MUNDO NOVO', 'MUNIZ FERREIRA', 'MUQUEM DE SAO FRANCISCO', 'MURITIBA', 'MUTUIPE', 'NAZARE', 'NILO PECANHA', 'NORDESTINA', 'NOVA CANAA', 'NOVA FATIMA', 'NOVA IBIA', 'NOVA ITARANA', 'NOVA REDENCAO', 'NOVA SOURE', 'NOVA VICOSA', 'NOVO HORIZONTE', 'NOVO TRIUNFO', 'OLINDINA', 'OLIVEIRA DOS BREJINHOS', 'OURICANGAS', 'OUROLANDIA', 'PALMAS DE MONTE ALTO', 'PALMEIRAS', 'PARAMIRIM', 'PARATINGA', 'PARIPIRANGA', 'PAU BRASIL', 'PE DE SERRA', 'PEDRAO', 'PEDRO ALEXANDRE', 'PIATA', 'PILAO ARCADO', 'PINDAI', 'PINDOBACU', 'PINTADAS', 'PIRAI DO NORTE', 'PIRIPA', 'PIRITIBA', 'PLANALTINO', 'PLANALTO', 'POCOES', 'POJUCA', 'PONTO NOVO', 'PORTO SEGURO', 'POTIRAGUA', 'PRADO', 'PRESIDENTE DUTRA', 'PRESIDENTE JANIO QUADROS', 'PRESIDENTE TANCREDO NEVES', 'QUEIMADAS', 'QUIJINGUE', 'QUIXABEIRA', 'RAFAEL JAMBEIRO', 'RETIROLANDIA', 'RIACHAO DAS NEVES', 'RIACHAO DO JACUIPE', 'RIACHO DE SANTANA', 'RIBEIRA DO AMPARO', 'RIBEIRA DO POMBAL', 'RIBEIRAO DO LARGO', 'RIO DE CONTAS', 'RIO DO ANTONIO', 'RIO DO PIRES', 'RIO REAL', 'RODELAS', 'RUY BARBOSA', 'SALINAS DA MARGARIDA', 'SANTA BARBARA', 'SANTA BRIGIDA', 'SANTA CRUZ CABRALIA', 'SANTA CRUZ DA VITORIA', 'SANTA INES', 'SANTA LUZIA', 'SANTA MARIA DA VITORIA', 'SANTA TERESINHA', 'SANTALUZ', 'SANTANA', 'SANTANOPOLIS', 'SANTO AMARO', 'SANTO ANTONIO DE JESUS', 'SANTO ESTEVAO', 'SAO DESIDERIO', 'SAO DOMINGOS', 'SAO FELIPE', 'SAO FELIX', 'SAO FELIX DO CORIBE', 'SAO FRANCISCO DO CONDE', 'SAO GABRIEL', 'SAO GONCALO DOS CAMPOS', 'SAO JOSE DA VITORIA', 'SAO JOSE DO JACUIPE', 'SAO MIGUEL DAS MATAS', 'SAO SEBASTIAO DO PASSE', 'SAPEACU', 'SATIRO DIAS', 'SAUBARA', 'SAUDE', 'SEABRA', 'SEBASTIAO LARANJEIRAS', 'SENTO SE', 'SERRA DO RAMALHO', 'SERRA DOURADA', 'SERRA PRETA', 'SERROLANDIA', 'SIMOES FILHO', 'SITIO DO MATO', 'SITIO DO QUINTO', 'SOBRADINHO', 'SOUTO SOARES', 'TABOCAS DO BREJO VELHO', 'TANHACU', 'TANQUE NOVO', 'TANQUINHO', 'TAPEROA', 'TAPIRAMUTA', 'TEIXEIRA DE FREITAS', 'TEODORO SAMPAIO', 'TEOFILANDIA', 'TEOLANDIA', 'TERRA NOVA', 'TREMEDAL', 'TUCANO', 'UAUA', 'UBAIRA', 'UBAITABA', 'UBATA', 'UIBAI', 'UMBURANAS', 'UNA', 'URANDI', 'URUCUCA', 'UTINGA', 'VALENCA', 'VALENTE', 'VARZEA DA ROCA', 'VARZEA DO POCO', 'VARZEA NOVA', 'VARZEDO', 'VERA CRUZ', 'VEREDA', 'WAGNER', 'WANDERLEY', 'WENCESLAU GUIMARAES', 'XIQUE-XIQUE']\n"
     ]
    }
   ],
   "source": [
    "# Selecionando municipios diferentes entre as bases de dados\n",
    "listaNoMatchMunicipios = set(listaMunicipiosDadosMeteorologicos).difference(listaMunicipiosDadosNotificacoesDengue) | set(listaMunicipiosDadosNotificacoesDengue).difference(listaMunicipiosDadosMeteorologicos)\n",
    "listaNoMatchMunicipios = list(listaNoMatchMunicipios)\n",
    "listaNoMatchMunicipios.sort()\n",
    "\n",
    "# Visualizando dados\n",
    "print ('Quantidade: ', len(listaNoMatchMunicipios))\n",
    "print ('Lista: ', listaNoMatchMunicipios)"
   ]
  },
  {
   "cell_type": "code",
   "execution_count": null,
   "metadata": {},
   "outputs": [],
   "source": []
  }
 ],
 "metadata": {
  "kernelspec": {
   "display_name": "Python 3",
   "language": "python",
   "name": "python3"
  },
  "language_info": {
   "codemirror_mode": {
    "name": "ipython",
    "version": 3
   },
   "file_extension": ".py",
   "mimetype": "text/x-python",
   "name": "python",
   "nbconvert_exporter": "python",
   "pygments_lexer": "ipython3",
   "version": "3.6.5"
  }
 },
 "nbformat": 4,
 "nbformat_minor": 2
}
