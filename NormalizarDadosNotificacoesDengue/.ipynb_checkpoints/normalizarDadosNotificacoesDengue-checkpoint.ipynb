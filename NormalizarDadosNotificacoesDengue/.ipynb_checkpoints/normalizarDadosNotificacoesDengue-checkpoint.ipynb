{
 "cells": [
  {
   "cell_type": "code",
   "execution_count": 1,
   "metadata": {},
   "outputs": [],
   "source": [
    "import pandas as pd"
   ]
  },
  {
   "cell_type": "code",
   "execution_count": 2,
   "metadata": {},
   "outputs": [
    {
     "name": "stdout",
     "output_type": "stream",
     "text": [
      "   MUNCODDV        MUNNOME  DT_NOTIF  QTDE_NOTIF   Ano\n",
      "0   2902104          Araci  20010101           3  2001\n",
      "1   2904100        Boquira  20010101           2  2001\n",
      "2   2906907      Caravelas  20010101           1  2001\n",
      "3   2916906        Itiruçu  20010101           7  2001\n",
      "4   2921104  Medeiros Neto  20010101           6  2001\n"
     ]
    }
   ],
   "source": [
    "# Ler arquivo de dados meteorologicos\n",
    "df = pd.read_excel('/home/franciele/Projetos/dados-dengue/Dados/notificacoes_dengue_bahia_2001_2017.xlsx', head=[0, 1, 2, 3, 4])\n",
    "\n",
    "# Visualizando dados\n",
    "print(df.head())"
   ]
  },
  {
   "cell_type": "code",
   "execution_count": 3,
   "metadata": {},
   "outputs": [
    {
     "name": "stdout",
     "output_type": "stream",
     "text": [
      "         MUNNOME  DT_NOTIF  QTDE_NOTIF\n",
      "0          Araci  20010101           3\n",
      "1        Boquira  20010101           2\n",
      "2      Caravelas  20010101           1\n",
      "3        Itiruçu  20010101           7\n",
      "4  Medeiros Neto  20010101           6\n"
     ]
    }
   ],
   "source": [
    "# Removendo colunas\n",
    "df = df.drop(columns=['MUNCODDV', 'Ano'])\n",
    "\n",
    "# Visualizando dados\n",
    "print(df.head())"
   ]
  },
  {
   "cell_type": "code",
   "execution_count": 4,
   "metadata": {},
   "outputs": [
    {
     "name": "stdout",
     "output_type": "stream",
     "text": [
      "       municipio      data  quantidade_notificacao\n",
      "0          Araci  20010101                       3\n",
      "1        Boquira  20010101                       2\n",
      "2      Caravelas  20010101                       1\n",
      "3        Itiruçu  20010101                       7\n",
      "4  Medeiros Neto  20010101                       6\n"
     ]
    }
   ],
   "source": [
    "# Alterando o nome das colunas\n",
    "df.columns = ['municipio', 'data', 'quantidade_notificacao']\n",
    "\n",
    "# Visualizando dados\n",
    "print(df.head())"
   ]
  },
  {
   "cell_type": "code",
   "execution_count": 5,
   "metadata": {},
   "outputs": [
    {
     "data": {
      "text/plain": [
       "municipio                 object\n",
       "data                       int64\n",
       "quantidade_notificacao     int64\n",
       "dtype: object"
      ]
     },
     "execution_count": 5,
     "metadata": {},
     "output_type": "execute_result"
    }
   ],
   "source": [
    "# Visualizando os tipos dos dados contidos no data frame\n",
    "df.dtypes"
   ]
  },
  {
   "cell_type": "code",
   "execution_count": 8,
   "metadata": {},
   "outputs": [
    {
     "name": "stdout",
     "output_type": "stream",
     "text": [
      "       municipio       data  quantidade_notificacao\n",
      "0          Araci 2001-01-01                       3\n",
      "1        Boquira 2001-01-01                       2\n",
      "2      Caravelas 2001-01-01                       1\n",
      "3        Itiruçu 2001-01-01                       7\n",
      "4  Medeiros Neto 2001-01-01                       6\n"
     ]
    }
   ],
   "source": [
    "import pandas as pd\n",
    "\n",
    "# Convertendo para data\n",
    "df['data'] = df['data'].astype('datetime64')\n",
    "\n",
    "# Visualizando dados\n",
    "print(df.head())"
   ]
  },
  {
   "cell_type": "code",
   "execution_count": 9,
   "metadata": {},
   "outputs": [
    {
     "data": {
      "text/plain": [
       "municipio                         object\n",
       "data                      datetime64[ns]\n",
       "quantidade_notificacao             int64\n",
       "dtype: object"
      ]
     },
     "execution_count": 9,
     "metadata": {},
     "output_type": "execute_result"
    }
   ],
   "source": [
    "# Visualizando os tipos dos dados contidos no data frame\n",
    "df.dtypes"
   ]
  },
  {
   "cell_type": "code",
   "execution_count": 10,
   "metadata": {},
   "outputs": [
    {
     "name": "stdout",
     "output_type": "stream",
     "text": [
      "       municipio        data  quantidade_notificacao\n",
      "0          Araci  01/01/2001                       3\n",
      "1        Boquira  01/01/2001                       2\n",
      "2      Caravelas  01/01/2001                       1\n",
      "3        Itiruçu  01/01/2001                       7\n",
      "4  Medeiros Neto  01/01/2001                       6\n"
     ]
    }
   ],
   "source": [
    "# Formatando a coluna data\n",
    "df['data'] = df.data.dt.strftime('%d/%m/%Y')\n",
    "\n",
    "# Visualizando dados\n",
    "print(df.head())"
   ]
  },
  {
   "cell_type": "code",
   "execution_count": 11,
   "metadata": {},
   "outputs": [],
   "source": [
    "import sys\n",
    "sys.path.append(\"..\")\n",
    "from Utils import normalizarNome"
   ]
  },
  {
   "cell_type": "code",
   "execution_count": 12,
   "metadata": {},
   "outputs": [
    {
     "name": "stdout",
     "output_type": "stream",
     "text": [
      "       municipio        data  quantidade_notificacao\n",
      "0          ARACI  01/01/2001                       3\n",
      "1        BOQUIRA  01/01/2001                       2\n",
      "2      CARAVELAS  01/01/2001                       1\n",
      "3        ITIRUCU  01/01/2001                       7\n",
      "4  MEDEIROS NETO  01/01/2001                       6\n"
     ]
    }
   ],
   "source": [
    "# Normalizando nome do municipio\n",
    "df['municipio'] = df['municipio'].map(normalizarNome.normalizar_nome)\n",
    "\n",
    "# Visualizando dados\n",
    "print(df.head())"
   ]
  },
  {
   "cell_type": "code",
   "execution_count": 13,
   "metadata": {},
   "outputs": [
    {
     "name": "stdout",
     "output_type": "stream",
     "text": [
      "49\n",
      "['ARACI' 'BOQUIRA' 'CARAVELAS' 'ITIRUCU' 'MEDEIROS NETO' 'SALVADOR'\n",
      " 'BRUMADO' 'CAMPO ALEGRE DE LOURDES' 'FEIRA DE SANTANA' 'IBITIARA' 'LAJE'\n",
      " 'MUCURI' 'PORTO SEGURO' 'PRADO' 'RAFAEL JAMBEIRO' 'CANAVIEIRAS'\n",
      " 'EUCLIDES DA CUNHA' 'ITABUNA' 'MUTUIPE' 'RIBEIRA DO POMBAL' 'SERRINHA'\n",
      " 'SITIO DO QUINTO' 'ANTAS' 'IBICARAI' 'ITABERABA'\n",
      " 'LIVRAMENTO DE NOSSA SENHORA' 'RIO DO ANTONIO' 'UBAIRA' 'UNA'\n",
      " 'NOVA VICOSA' 'TAPEROA' 'VITORIA DA CONQUISTA' 'LAURO DE FREITAS'\n",
      " 'PLANALTINO' 'SIMOES FILHO' 'CAEM' 'COARACI' 'CONCEICAO DA FEIRA'\n",
      " 'IBOTIRAMA' 'IPIAU' 'JACOBINA' 'CICERO DANTAS' 'IPUPIARA' 'ITAJUIPE'\n",
      " 'MUNDO NOVO' 'PEDRO ALEXANDRE' 'URUCUCA' 'BAIXA GRANDE' 'FATIMA']\n"
     ]
    }
   ],
   "source": [
    "# Lista única de municípios do data frame\n",
    "lista_municipios = df.municipio.unique()\n",
    "\n",
    "# Visualizando tamanho da lista\n",
    "print(lista_municipios.size)\n",
    "\n",
    "# Visualizando lista de municípios\n",
    "print(lista_municipios)"
   ]
  },
  {
   "cell_type": "code",
   "execution_count": 14,
   "metadata": {},
   "outputs": [
    {
     "name": "stdout",
     "output_type": "stream",
     "text": [
      "9\n",
      "['01/01/2001' '02/01/2001' '03/01/2001' '04/01/2001' '05/01/2001'\n",
      " '06/01/2001' '07/01/2001' '08/01/2001' '09/01/2001']\n"
     ]
    }
   ],
   "source": [
    "# Lista única de datas do data frame\n",
    "lista_datas = df.data.unique()\n",
    "\n",
    "# Visualizando tamanho da lista\n",
    "print(lista_datas.size)\n",
    "\n",
    "# Visualizando lista de datas\n",
    "print(lista_datas)"
   ]
  },
  {
   "cell_type": "code",
   "execution_count": 18,
   "metadata": {},
   "outputs": [
    {
     "name": "stdout",
     "output_type": "stream",
     "text": [
      "municipio                 0\n",
      "data                      0\n",
      "quantidade_notificacao    0\n",
      "dtype: int64\n"
     ]
    }
   ],
   "source": [
    "# Verificando se há dados não numéricos\n",
    "print(df.isna().sum())"
   ]
  },
  {
   "cell_type": "code",
   "execution_count": 19,
   "metadata": {},
   "outputs": [
    {
     "name": "stdout",
     "output_type": "stream",
     "text": [
      "municipio                 0\n",
      "data                      0\n",
      "quantidade_notificacao    0\n",
      "dtype: int64\n"
     ]
    }
   ],
   "source": [
    "# Verificando se há dados nulos\n",
    "print(df.isnull().sum())"
   ]
  },
  {
   "cell_type": "code",
   "execution_count": 20,
   "metadata": {},
   "outputs": [],
   "source": [
    "# Salvando dados do dataframe em um arquivo .csv\n",
    "df.to_csv('saidaNotificacoesDengue.csv')"
   ]
  },
  {
   "cell_type": "code",
   "execution_count": null,
   "metadata": {},
   "outputs": [],
   "source": []
  }
 ],
 "metadata": {
  "kernelspec": {
   "display_name": "Python 3",
   "language": "python",
   "name": "python3"
  },
  "language_info": {
   "codemirror_mode": {
    "name": "ipython",
    "version": 3
   },
   "file_extension": ".py",
   "mimetype": "text/x-python",
   "name": "python",
   "nbconvert_exporter": "python",
   "pygments_lexer": "ipython3",
   "version": "3.6.5"
  }
 },
 "nbformat": 4,
 "nbformat_minor": 2
}
