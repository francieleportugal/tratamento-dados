{
 "cells": [
  {
   "cell_type": "code",
   "execution_count": 1,
   "metadata": {},
   "outputs": [],
   "source": [
    "import pandas as pd"
   ]
  },
  {
   "cell_type": "code",
   "execution_count": 2,
   "metadata": {},
   "outputs": [
    {
     "name": "stdout",
     "output_type": "stream",
     "text": [
      "   MUNCODDV        MUNNOME  DT_NOTIF  QTDE_NOTIF   Ano\n",
      "0   2902104          Araci  20010101           3  2001\n",
      "1   2904100        Boquira  20010101           2  2001\n",
      "2   2906907      Caravelas  20010101           1  2001\n",
      "3   2916906        Itiruçu  20010101           7  2001\n",
      "4   2921104  Medeiros Neto  20010101           6  2001\n"
     ]
    }
   ],
   "source": [
    "# Ler arquivo de dados meteorologicos\n",
    "df = pd.read_excel('/home/franciele/Projetos/dados-dengue/Dados/notificacoes_dengue_bahia_2001_2017.xlsx', head=[0, 1, 2, 3, 4])\n",
    "\n",
    "# Visualizando dados\n",
    "print(df.head())"
   ]
  },
  {
   "cell_type": "code",
   "execution_count": 3,
   "metadata": {},
   "outputs": [
    {
     "name": "stdout",
     "output_type": "stream",
     "text": [
      "         MUNNOME  DT_NOTIF  QTDE_NOTIF\n",
      "0          Araci  20010101           3\n",
      "1        Boquira  20010101           2\n",
      "2      Caravelas  20010101           1\n",
      "3        Itiruçu  20010101           7\n",
      "4  Medeiros Neto  20010101           6\n"
     ]
    }
   ],
   "source": [
    "# Removendo colunas\n",
    "df = df.drop(columns=['MUNCODDV', 'Ano'])\n",
    "\n",
    "# Visualizando dados\n",
    "print(df.head())"
   ]
  },
  {
   "cell_type": "code",
   "execution_count": 4,
   "metadata": {},
   "outputs": [
    {
     "name": "stdout",
     "output_type": "stream",
     "text": [
      "       municipio      data  quantidade_notificacao\n",
      "0          Araci  20010101                       3\n",
      "1        Boquira  20010101                       2\n",
      "2      Caravelas  20010101                       1\n",
      "3        Itiruçu  20010101                       7\n",
      "4  Medeiros Neto  20010101                       6\n"
     ]
    }
   ],
   "source": [
    "# Alterando o nome das colunas\n",
    "df.columns = ['municipio', 'data', 'quantidade_notificacao']\n",
    "\n",
    "# Visualizando dados\n",
    "print(df.head())"
   ]
  },
  {
   "cell_type": "code",
   "execution_count": 5,
   "metadata": {},
   "outputs": [
    {
     "data": {
      "text/plain": [
       "municipio                 object\n",
       "data                       int64\n",
       "quantidade_notificacao     int64\n",
       "dtype: object"
      ]
     },
     "execution_count": 5,
     "metadata": {},
     "output_type": "execute_result"
    }
   ],
   "source": [
    "# Visualizando os tipos dos dados contidos no data frame\n",
    "df.dtypes"
   ]
  },
  {
   "cell_type": "code",
   "execution_count": 6,
   "metadata": {},
   "outputs": [
    {
     "name": "stdout",
     "output_type": "stream",
     "text": [
      "       municipio       data  quantidade_notificacao\n",
      "0          Araci 2001-01-01                       3\n",
      "1        Boquira 2001-01-01                       2\n",
      "2      Caravelas 2001-01-01                       1\n",
      "3        Itiruçu 2001-01-01                       7\n",
      "4  Medeiros Neto 2001-01-01                       6\n"
     ]
    }
   ],
   "source": [
    "import pandas as pd\n",
    "\n",
    "# Convertendo para data\n",
    "df['data'] = df['data'].astype('str')\n",
    "df['data'] = df['data'].astype('datetime64')\n",
    "\n",
    "# Visualizando dados\n",
    "print(df.head())"
   ]
  },
  {
   "cell_type": "code",
   "execution_count": 7,
   "metadata": {},
   "outputs": [
    {
     "data": {
      "text/plain": [
       "municipio                         object\n",
       "data                      datetime64[ns]\n",
       "quantidade_notificacao             int64\n",
       "dtype: object"
      ]
     },
     "execution_count": 7,
     "metadata": {},
     "output_type": "execute_result"
    }
   ],
   "source": [
    "# Visualizando os tipos dos dados contidos no data frame\n",
    "df.dtypes"
   ]
  },
  {
   "cell_type": "code",
   "execution_count": 8,
   "metadata": {},
   "outputs": [
    {
     "name": "stdout",
     "output_type": "stream",
     "text": [
      "       municipio        data  quantidade_notificacao\n",
      "0          Araci  01/01/2001                       3\n",
      "1        Boquira  01/01/2001                       2\n",
      "2      Caravelas  01/01/2001                       1\n",
      "3        Itiruçu  01/01/2001                       7\n",
      "4  Medeiros Neto  01/01/2001                       6\n"
     ]
    }
   ],
   "source": [
    "# Formatando a coluna data\n",
    "df['data'] = df.data.dt.strftime('%d/%m/%Y')\n",
    "\n",
    "# Visualizando dados\n",
    "print(df.head())"
   ]
  },
  {
   "cell_type": "code",
   "execution_count": 9,
   "metadata": {},
   "outputs": [],
   "source": [
    "import sys\n",
    "sys.path.append(\"..\")\n",
    "from Utils import normalizarNome"
   ]
  },
  {
   "cell_type": "code",
   "execution_count": 10,
   "metadata": {},
   "outputs": [
    {
     "name": "stdout",
     "output_type": "stream",
     "text": [
      "       municipio        data  quantidade_notificacao\n",
      "0          ARACI  01/01/2001                       3\n",
      "1        BOQUIRA  01/01/2001                       2\n",
      "2      CARAVELAS  01/01/2001                       1\n",
      "3        ITIRUCU  01/01/2001                       7\n",
      "4  MEDEIROS NETO  01/01/2001                       6\n"
     ]
    }
   ],
   "source": [
    "# Normalizando nome do municipio\n",
    "df['municipio'] = df['municipio'].map(normalizarNome.normalizar_nome)\n",
    "\n",
    "# Visualizando dados\n",
    "print(df.head())"
   ]
  },
  {
   "cell_type": "code",
   "execution_count": 11,
   "metadata": {},
   "outputs": [
    {
     "name": "stdout",
     "output_type": "stream",
     "text": [
      "417\n",
      "['ARACI' 'BOQUIRA' 'CARAVELAS' 'ITIRUCU' 'MEDEIROS NETO' 'SALVADOR'\n",
      " 'BRUMADO' 'CAMPO ALEGRE DE LOURDES' 'FEIRA DE SANTANA' 'IBITIARA' 'LAJE'\n",
      " 'MUCURI' 'PORTO SEGURO' 'PRADO' 'RAFAEL JAMBEIRO' 'CANAVIEIRAS'\n",
      " 'EUCLIDES DA CUNHA' 'ITABUNA' 'MUTUIPE' 'RIBEIRA DO POMBAL' 'SERRINHA'\n",
      " 'SITIO DO QUINTO' 'ANTAS' 'IBICARAI' 'ITABERABA'\n",
      " 'LIVRAMENTO DE NOSSA SENHORA' 'RIO DO ANTONIO' 'UBAIRA' 'UNA'\n",
      " 'NOVA VICOSA' 'TAPEROA' 'VITORIA DA CONQUISTA' 'LAURO DE FREITAS'\n",
      " 'PLANALTINO' 'SIMOES FILHO' 'CAEM' 'COARACI' 'CONCEICAO DA FEIRA'\n",
      " 'IBOTIRAMA' 'IPIAU' 'JACOBINA' 'CICERO DANTAS' 'IPUPIARA' 'ITAJUIPE'\n",
      " 'MUNDO NOVO' 'PEDRO ALEXANDRE' 'URUCUCA' 'BAIXA GRANDE' 'FATIMA'\n",
      " 'GUARATINGA' 'WAGNER' 'BARREIRAS' 'CONTENDAS DO SINCORA'\n",
      " 'LAFAIETE COUTINHO' 'SANTA LUZIA' 'RIACHAO DAS NEVES' 'AURELINO LEAL'\n",
      " 'GUANAMBI' 'LICINIO DE ALMEIDA' 'PALMAS DE MONTE ALTO' 'TANHACU'\n",
      " 'PINDOBACU' 'VALENTE' 'HELIOPOLIS' 'MADRE DE DEUS' 'OLINDINA' 'GANDU'\n",
      " 'MARCIONILIO SOUZA' 'MURITIBA' 'NOVA FATIMA' 'RIACHAO DO JACUIPE'\n",
      " 'RUY BARBOSA' 'SANTA MARIA DA VITORIA' 'VERA CRUZ' 'CAMACARI' 'GLORIA'\n",
      " 'ILHEUS' 'MASCOTE' 'NOVA SOURE' 'CIPO' 'ALCOBACA' 'BOM JESUS DA LAPA'\n",
      " 'IBIRAPITANGA' 'NOVO TRIUNFO' 'PARATINGA' 'SANTA CRUZ CABRALIA'\n",
      " 'SANTALUZ' 'SAO FELIX DO CORIBE' 'BARRA DO ROCHA' 'CACULE' 'ITIUBA'\n",
      " 'CAPIM GROSSO' 'ITORORO' 'MANOEL VITORINO' 'TEIXEIRA DE FREITAS'\n",
      " 'JACARACI' 'NOVA CANAA' 'UBATA' 'CORONEL JOAO SA' 'EUNAPOLIS' 'ITABELA'\n",
      " 'BARRO PRETO' 'MIGUEL CALMON' 'OLIVEIRA DOS BREJINHOS' 'PARIPIRANGA'\n",
      " 'ARACATU' 'CACHOEIRA' 'DOM BASILIO' 'JEQUIE' 'SANTO AMARO' 'WANDERLEY'\n",
      " 'MONTE SANTO' 'POJUCA' 'CONCEICAO DO COITE' 'SAO DESIDERIO' 'SERROLANDIA'\n",
      " 'ABAIRA' 'BUERAREMA' 'JUAZEIRO' 'RIO REAL' 'CONDE' 'IGRAPIUNA' 'ITAETE'\n",
      " 'MACURURE' 'POTIRAGUA' 'QUIJINGUE' 'ADUSTINA' 'CONCEICAO DO ALMEIDA'\n",
      " 'IUIU' 'PAU BRASIL' 'TEOLANDIA' 'AMELIA RODRIGUES' 'ANTONIO GONCALVES'\n",
      " 'DARIO MEIRA' 'IBIASSUCE' 'SANTO ANTONIO DE JESUS' 'IRAJUBA' 'MARAU'\n",
      " 'SANTA BRIGIDA' 'JUSSARI' 'LUIS EDUARDO MAGALHAES' 'ANGICAL' 'CAIRU'\n",
      " 'SENHOR DO BONFIM' 'PIRITIBA' 'REMANSO' 'TUCANO' 'CANDEIAS' 'CHORROCHO'\n",
      " 'CRUZ DAS ALMAS' 'OUROLANDIA' 'JAGUARARI' 'MARACAS' 'QUIXABEIRA'\n",
      " 'TEOFILANDIA' 'CAMACAN' 'MAIRI' 'MORRO DO CHAPEU' 'PARAMIRIM'\n",
      " 'TAPIRAMUTA' 'RIACHO DE SANTANA' 'BARRA DO CHOCA' 'CAMAMU' 'IBICUI'\n",
      " 'IGAPORA' 'RETIROLANDIA' 'SAPEACU' 'BREJOLANDIA' 'ITAQUARA' 'JAGUAQUARA'\n",
      " 'MACAJUBA' 'FIRMINO ALVES' 'LENCOIS' 'IGUAI' 'SANTANA' 'COCOS'\n",
      " 'ITARANTIM' 'VARZEA DO POCO' 'JITAUNA' 'MALHADA' 'SANTA BARBARA'\n",
      " 'SERRA DO RAMALHO' 'UBAITABA' 'NOVA IBIA' 'SAO SEBASTIAO DO PASSE'\n",
      " 'AIQUARA' 'ALAGOINHAS' 'COTEGIPE' 'CANAPOLIS' 'ITAPETINGA' 'MAIQUINIQUE'\n",
      " 'SOBRADINHO' 'ELISIO MEDRADO' 'ITAPITANGA' 'SAO MIGUEL DAS MATAS'\n",
      " 'SEABRA' 'CASTRO ALVES' 'MACARANI' 'PE DE SERRA' 'VARZEA NOVA' 'ANDARAI'\n",
      " 'CRISTOPOLIS' 'PINDAI' 'CASA NOVA' 'SENTO SE' 'AMARGOSA'\n",
      " 'TABOCAS DO BREJO VELHO' 'CORIBE' 'ESPLANADA' 'SALINAS DA MARGARIDA'\n",
      " 'CAFARNAUM' 'ITANHEM' 'JABORANDI' 'SATIRO DIAS' 'CARDEAL DA SILVA'\n",
      " 'CORRENTINA' 'MIRANGABA' 'SAUBARA' 'CONCEICAO DO JACUIPE' 'ENTRE RIOS'\n",
      " 'ITAJU DO COLONIA' 'ITATIM' 'MATA DE SAO JOAO' 'IRAMAIA' 'SAO DOMINGOS'\n",
      " 'IBIQUERA' 'IBIRATAIA' 'MATINA' 'NILO PECANHA' 'SAO GONCALO DOS CAMPOS'\n",
      " 'VARZEA DA ROCA' 'CALDEIRAO GRANDE' 'DIAS DAVILA' 'XIQUE-XIQUE'\n",
      " 'IRAQUARA' 'ANAGE' 'BROTAS DE MACAUBAS' 'MARAGOGIPE' 'UMBURANAS' 'PEDRAO'\n",
      " 'APUAREMA' 'ARATACA' 'PIRIPA' 'ITAMARAJU' 'JUSSIAPE' 'PIRAI DO NORTE'\n",
      " 'CURACA' 'BANZAE' 'SERRA DOURADA' 'IRECE' 'SOUTO SOARES' 'TANQUINHO'\n",
      " 'CARINHANHA' 'ICHU' 'IRARA' 'NOVO HORIZONTE' 'BAIANOPOLIS' 'INHAMBUPE'\n",
      " 'ITUACU' 'FEIRA DA MATA' 'ITUBERA' 'RIBEIRA DO AMPARO' 'TEODORO SAMPAIO'\n",
      " 'SANTANOPOLIS' 'APORA' 'URANDI' 'BIRITINGA' 'ITAPEBI'\n",
      " 'SAO JOSE DO JACUIPE' 'SERRA PRETA' 'MACAUBAS' 'ANGUERA' 'ITAPE'\n",
      " 'SAO FRANCISCO DO CONDE' 'WENCESLAU GUIMARAES' 'FILADELFIA'\n",
      " 'FORMOSA DO RIO PRETO' 'ITAPICURU' 'POCOES' 'PAULO AFONSO'\n",
      " 'PRESIDENTE DUTRA' 'UAUA' 'CANDIBA' 'PRESIDENTE TANCREDO NEVES'\n",
      " 'SANTA CRUZ DA VITORIA' 'PINTADAS' 'SANTA INES' 'CAATIBA' 'ITANAGRA'\n",
      " 'LAJEDO DO TABOCAL' 'SANTO ESTEVAO' 'MUNIZ FERREIRA' 'VALENCA' 'BREJOES'\n",
      " 'CORACAO DE MARIA' 'UIBAI' 'ARACAS' 'TERRA NOVA' 'CANDIDO SALES' 'CATU'\n",
      " 'ANTONIO CARDOSO' 'ENCRUZILHADA' 'GONGOGI' 'NOVA ITARANA'\n",
      " 'AMERICA DOURADA' 'MUCUGE' 'ITAPARICA' 'NOVA REDENCAO' 'AGUA FRIA'\n",
      " 'IPIRA' 'FLORESTA AZUL' 'CENTRAL' 'MILAGRES' 'CANSANCAO' 'CAMPO FORMOSO'\n",
      " 'ANDORINHA' 'BOA NOVA' 'BOTUPORA' 'CATOLANDIA' 'CONDEUBA' 'PLANALTO'\n",
      " 'IPECAETA' 'PONTO NOVO' 'QUEIMADAS' 'RIO DE CONTAS' 'LAGOA REAL'\n",
      " 'ITAMARI' 'ITAGIBA' 'IACU' 'SANTA RITA DE CASSIA' 'TANQUE NOVO'\n",
      " 'LAJEDINHO' 'PALMEIRAS' 'CATURAMA' 'JUCURUCU' 'MAETINGA' 'ITAMBE'\n",
      " 'RIBEIRAO DO LARGO' 'CABACEIRAS DO PARAGUACU' 'CRAVOLANDIA'\n",
      " 'BOA VISTA DO TUPIM' 'JEREMOABO' 'CAPELA DO ALTO ALEGRE' 'BARROCAS'\n",
      " 'CANUDOS' 'ABARE' 'SAUDE' 'CAETANOS' 'BELO CAMPO' 'CANARANA' 'OURICANGAS'\n",
      " 'JOAO DOURADO' 'BARRA DO MENDES' 'CRISOPOLIS' 'CARAIBAS'\n",
      " 'ITAGUACU DA BAHIA' 'UTINGA' 'SAO FELIX' 'ARAMARI' 'CAETITE' 'CORDEIROS'\n",
      " 'SEBASTIAO LARANJEIRAS' 'VEREDA' 'IBIPEBA' 'ACAJUTIBA' 'BARRA DA ESTIVA'\n",
      " 'BELMONTE' 'MALHADA DE PEDRAS' 'IBICOARA' 'SAO GABRIEL' 'ITAGIMIRIM'\n",
      " 'PIATA' 'CANDEAL' 'SAO JOSE DA VITORIA' 'LAMARAO' 'ERICO CARDOSO'\n",
      " 'MIRANTE' 'NORDESTINA' 'RODELAS' 'ITACARE' 'DOM MACEDO COSTA' 'JIQUIRICA'\n",
      " 'PILAO ARCADO' 'ITAGI' 'IBITITA' 'JUSSARA' 'GUAJERU' 'IBIRAPUA'\n",
      " 'ALMADINA' 'TREMEDAL' 'RIO DO PIRES' 'PRESIDENTE JANIO QUADROS'\n",
      " 'ARATUIPE' 'LAJEDAO' 'VARZEDO' 'JAGUARIPE' 'BURITIRAMA' 'NAZARE'\n",
      " 'BOM JESUS DA SERRA' 'BONINAL' 'BARRO ALTO' 'LAPAO' 'GAVIAO' 'MANSIDAO'\n",
      " 'GOVERNADOR MANGABEIRA' 'MULUNGU DO MORRO' 'SANTA TERESINHA'\n",
      " 'SITIO DO MATO' 'BARRA' 'JANDAIRA' 'MUQUEM DE SAO FRANCISCO' 'SAO FELIPE'\n",
      " 'BONITO' 'GENTIO DO OURO' 'MORPARA' 'IBIPITANGA' 'MORTUGABA']\n"
     ]
    }
   ],
   "source": [
    "# Lista única de municípios do data frame\n",
    "lista_municipios = df.municipio.unique()\n",
    "\n",
    "# Visualizando tamanho da lista\n",
    "print(lista_municipios.size)\n",
    "\n",
    "# Visualizando lista de municípios\n",
    "print(lista_municipios)"
   ]
  },
  {
   "cell_type": "code",
   "execution_count": 12,
   "metadata": {},
   "outputs": [
    {
     "name": "stdout",
     "output_type": "stream",
     "text": [
      "5800\n",
      "['01/01/2001' '02/01/2001' '03/01/2001' ... '03/07/2016' '01/10/2016'\n",
      " '24/09/2016']\n"
     ]
    }
   ],
   "source": [
    "# Lista única de datas do data frame\n",
    "lista_datas = df.data.unique()\n",
    "\n",
    "# Visualizando tamanho da lista\n",
    "print(lista_datas.size)\n",
    "\n",
    "# Visualizando lista de datas\n",
    "print(lista_datas)"
   ]
  },
  {
   "cell_type": "code",
   "execution_count": 13,
   "metadata": {},
   "outputs": [
    {
     "name": "stdout",
     "output_type": "stream",
     "text": [
      "municipio                 0\n",
      "data                      0\n",
      "quantidade_notificacao    0\n",
      "dtype: int64\n"
     ]
    }
   ],
   "source": [
    "# Verificando se há dados não numéricos\n",
    "print(df.isna().sum())"
   ]
  },
  {
   "cell_type": "code",
   "execution_count": 14,
   "metadata": {},
   "outputs": [
    {
     "name": "stdout",
     "output_type": "stream",
     "text": [
      "municipio                 0\n",
      "data                      0\n",
      "quantidade_notificacao    0\n",
      "dtype: int64\n"
     ]
    }
   ],
   "source": [
    "# Verificando se há dados nulos\n",
    "print(df.isnull().sum())"
   ]
  },
  {
   "cell_type": "code",
   "execution_count": 15,
   "metadata": {},
   "outputs": [],
   "source": [
    "# Salvando dados do dataframe em um arquivo .csv\n",
    "df.to_csv('saidaNotificacoesDengue.csv')"
   ]
  },
  {
   "cell_type": "code",
   "execution_count": null,
   "metadata": {},
   "outputs": [],
   "source": []
  }
 ],
 "metadata": {
  "kernelspec": {
   "display_name": "Python 3",
   "language": "python",
   "name": "python3"
  },
  "language_info": {
   "codemirror_mode": {
    "name": "ipython",
    "version": 3
   },
   "file_extension": ".py",
   "mimetype": "text/x-python",
   "name": "python",
   "nbconvert_exporter": "python",
   "pygments_lexer": "ipython3",
   "version": "3.6.5"
  }
 },
 "nbformat": 4,
 "nbformat_minor": 2
}
