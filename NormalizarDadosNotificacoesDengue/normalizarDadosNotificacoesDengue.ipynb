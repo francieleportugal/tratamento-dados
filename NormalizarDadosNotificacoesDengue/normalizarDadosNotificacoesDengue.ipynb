{
 "cells": [
  {
   "cell_type": "code",
   "execution_count": 1,
   "metadata": {},
   "outputs": [],
   "source": [
    "import pandas as pd"
   ]
  },
  {
   "cell_type": "code",
   "execution_count": null,
   "metadata": {},
   "outputs": [],
   "source": [
    "# Ler arquivo de dados meteorologicos\n",
    "df = pd.read_excel('/home/franciele/Projetos/dados-dengue/Dados/notificacoes_dengue_bahia_2001_2017.xlsx', head=[0, 1, 2, 3, 4])\n",
    "\n",
    "# Visualizando dados\n",
    "print(df.head())"
   ]
  },
  {
   "cell_type": "code",
   "execution_count": null,
   "metadata": {},
   "outputs": [],
   "source": [
    "# Removendo colunas\n",
    "df = df.drop(columns=['MUNCODDV', 'Ano'])\n",
    "\n",
    "# Visualizando dados\n",
    "print(df.head())"
   ]
  },
  {
   "cell_type": "code",
   "execution_count": null,
   "metadata": {},
   "outputs": [],
   "source": [
    "# Alterando o nome das colunas\n",
    "df.columns = ['municipio', 'data', 'quantidade_notificacao']\n",
    "\n",
    "# Visualizando dados\n",
    "print(df.head())"
   ]
  },
  {
   "cell_type": "code",
   "execution_count": null,
   "metadata": {},
   "outputs": [],
   "source": [
    "# Visualizando os tipos dos dados contidos no data frame\n",
    "df.dtypes"
   ]
  },
  {
   "cell_type": "code",
   "execution_count": null,
   "metadata": {},
   "outputs": [],
   "source": [
    "import pandas as pd\n",
    "\n",
    "# Convertendo para data\n",
    "df['data'] = df['data'].astype('str')\n",
    "df['data'] = df['data'].astype('datetime64')\n",
    "\n",
    "# Visualizando dados\n",
    "print(df.head())"
   ]
  },
  {
   "cell_type": "code",
   "execution_count": null,
   "metadata": {},
   "outputs": [],
   "source": [
    "# Visualizando os tipos dos dados contidos no data frame\n",
    "df.dtypes"
   ]
  },
  {
   "cell_type": "code",
   "execution_count": null,
   "metadata": {},
   "outputs": [],
   "source": [
    "# Formatando a coluna data\n",
    "df['data'] = df.data.dt.strftime('%d/%m/%Y')\n",
    "\n",
    "# Visualizando dados\n",
    "print(df.head())"
   ]
  },
  {
   "cell_type": "code",
   "execution_count": null,
   "metadata": {},
   "outputs": [],
   "source": [
    "import sys\n",
    "sys.path.append(\"..\")\n",
    "from Utils import normalizarNome"
   ]
  },
  {
   "cell_type": "code",
   "execution_count": null,
   "metadata": {},
   "outputs": [],
   "source": [
    "# Normalizando nome do municipio\n",
    "df['municipio'] = df['municipio'].map(normalizarNome.normalizar_nome)\n",
    "\n",
    "# Visualizando dados\n",
    "print(df.head())"
   ]
  },
  {
   "cell_type": "code",
   "execution_count": null,
   "metadata": {},
   "outputs": [],
   "source": [
    "# Lista única de municípios do data frame\n",
    "lista_municipios = df.municipio.unique()\n",
    "\n",
    "# Visualizando tamanho da lista\n",
    "print(lista_municipios.size)\n",
    "\n",
    "# Visualizando lista de municípios\n",
    "print(lista_municipios)"
   ]
  },
  {
   "cell_type": "code",
   "execution_count": null,
   "metadata": {},
   "outputs": [],
   "source": [
    "# Lista única de datas do data frame\n",
    "lista_datas = df.data.unique()\n",
    "\n",
    "# Visualizando tamanho da lista\n",
    "print(lista_datas.size)\n",
    "\n",
    "# Visualizando lista de datas\n",
    "print(lista_datas)"
   ]
  },
  {
   "cell_type": "code",
   "execution_count": null,
   "metadata": {},
   "outputs": [],
   "source": [
    "# Verificando se há dados não numéricos\n",
    "print(df.isna().sum())"
   ]
  },
  {
   "cell_type": "code",
   "execution_count": null,
   "metadata": {},
   "outputs": [],
   "source": [
    "# Verificando se há dados nulos\n",
    "print(df.isnull().sum())"
   ]
  },
  {
   "cell_type": "code",
   "execution_count": null,
   "metadata": {},
   "outputs": [],
   "source": [
    "# Salvando dados do dataframe em um arquivo .csv\n",
    "df.to_csv('saidaNotificacoesDengue.csv')"
   ]
  },
  {
   "cell_type": "code",
   "execution_count": null,
   "metadata": {},
   "outputs": [],
   "source": []
  }
 ],
 "metadata": {
  "kernelspec": {
   "display_name": "Python 3",
   "language": "python",
   "name": "python3"
  },
  "language_info": {
   "codemirror_mode": {
    "name": "ipython",
    "version": 3
   },
   "file_extension": ".py",
   "mimetype": "text/x-python",
   "name": "python",
   "nbconvert_exporter": "python",
   "pygments_lexer": "ipython3",
   "version": "3.6.5"
  }
 },
 "nbformat": 4,
 "nbformat_minor": 2
}
